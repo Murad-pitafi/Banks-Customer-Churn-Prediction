{
 "cells": [
  {
   "cell_type": "code",
   "execution_count": 1,
   "id": "15ff91c7",
   "metadata": {
    "_cell_guid": "b1076dfc-b9ad-4769-8c92-a6c4dae69d19",
    "_uuid": "8f2839f25d086af736a60e9eeb907d3b93b6e0e5",
    "execution": {
     "iopub.execute_input": "2023-11-18T07:13:31.754773Z",
     "iopub.status.busy": "2023-11-18T07:13:31.753661Z",
     "iopub.status.idle": "2023-11-18T07:13:32.135324Z",
     "shell.execute_reply": "2023-11-18T07:13:32.133909Z"
    },
    "papermill": {
     "duration": 0.394743,
     "end_time": "2023-11-18T07:13:32.138201",
     "exception": false,
     "start_time": "2023-11-18T07:13:31.743458",
     "status": "completed"
    },
    "tags": []
   },
   "outputs": [
    {
     "name": "stdout",
     "output_type": "stream",
     "text": [
      "/kaggle/input/bank-customer-churn-prediction/Churn_Modelling.csv\n"
     ]
    }
   ],
   "source": [
    "# This Python 3 environment comes with many helpful analytics libraries installed\n",
    "# It is defined by the kaggle/python Docker image: https://github.com/kaggle/docker-python\n",
    "# For example, here's several helpful packages to load\n",
    "\n",
    "import numpy as np # linear algebra\n",
    "import pandas as pd # data processing, CSV file I/O (e.g. pd.read_csv)\n",
    "\n",
    "# Input data files are available in the read-only \"../input/\" directory\n",
    "# For example, running this (by clicking run or pressing Shift+Enter) will list all files under the input directory\n",
    "\n",
    "import os\n",
    "for dirname, _, filenames in os.walk('/kaggle/input'):\n",
    "    for filename in filenames:\n",
    "        print(os.path.join(dirname, filename))\n",
    "\n",
    "# You can write up to 20GB to the current directory (/kaggle/working/) that gets preserved as output when you create a version using \"Save & Run All\" \n",
    "# You can also write temporary files to /kaggle/temp/, but they won't be saved outside of the current session"
   ]
  },
  {
   "cell_type": "markdown",
   "id": "49e71cfd",
   "metadata": {
    "papermill": {
     "duration": 0.007764,
     "end_time": "2023-11-18T07:13:32.154428",
     "exception": false,
     "start_time": "2023-11-18T07:13:32.146664",
     "status": "completed"
    },
    "tags": []
   },
   "source": [
    "# **Data Loading**"
   ]
  },
  {
   "cell_type": "code",
   "execution_count": 2,
   "id": "75831259",
   "metadata": {
    "execution": {
     "iopub.execute_input": "2023-11-18T07:13:32.172948Z",
     "iopub.status.busy": "2023-11-18T07:13:32.172436Z",
     "iopub.status.idle": "2023-11-18T07:13:32.239068Z",
     "shell.execute_reply": "2023-11-18T07:13:32.238024Z"
    },
    "papermill": {
     "duration": 0.078959,
     "end_time": "2023-11-18T07:13:32.241506",
     "exception": false,
     "start_time": "2023-11-18T07:13:32.162547",
     "status": "completed"
    },
    "tags": []
   },
   "outputs": [
    {
     "data": {
      "text/html": [
       "<div>\n",
       "<style scoped>\n",
       "    .dataframe tbody tr th:only-of-type {\n",
       "        vertical-align: middle;\n",
       "    }\n",
       "\n",
       "    .dataframe tbody tr th {\n",
       "        vertical-align: top;\n",
       "    }\n",
       "\n",
       "    .dataframe thead th {\n",
       "        text-align: right;\n",
       "    }\n",
       "</style>\n",
       "<table border=\"1\" class=\"dataframe\">\n",
       "  <thead>\n",
       "    <tr style=\"text-align: right;\">\n",
       "      <th></th>\n",
       "      <th>RowNumber</th>\n",
       "      <th>CustomerId</th>\n",
       "      <th>Surname</th>\n",
       "      <th>CreditScore</th>\n",
       "      <th>Geography</th>\n",
       "      <th>Gender</th>\n",
       "      <th>Age</th>\n",
       "      <th>Tenure</th>\n",
       "      <th>Balance</th>\n",
       "      <th>NumOfProducts</th>\n",
       "      <th>HasCrCard</th>\n",
       "      <th>IsActiveMember</th>\n",
       "      <th>EstimatedSalary</th>\n",
       "      <th>Exited</th>\n",
       "    </tr>\n",
       "  </thead>\n",
       "  <tbody>\n",
       "    <tr>\n",
       "      <th>0</th>\n",
       "      <td>1</td>\n",
       "      <td>15634602</td>\n",
       "      <td>Hargrave</td>\n",
       "      <td>619</td>\n",
       "      <td>France</td>\n",
       "      <td>Female</td>\n",
       "      <td>42</td>\n",
       "      <td>2</td>\n",
       "      <td>0.00</td>\n",
       "      <td>1</td>\n",
       "      <td>1</td>\n",
       "      <td>1</td>\n",
       "      <td>101348.88</td>\n",
       "      <td>1</td>\n",
       "    </tr>\n",
       "    <tr>\n",
       "      <th>1</th>\n",
       "      <td>2</td>\n",
       "      <td>15647311</td>\n",
       "      <td>Hill</td>\n",
       "      <td>608</td>\n",
       "      <td>Spain</td>\n",
       "      <td>Female</td>\n",
       "      <td>41</td>\n",
       "      <td>1</td>\n",
       "      <td>83807.86</td>\n",
       "      <td>1</td>\n",
       "      <td>0</td>\n",
       "      <td>1</td>\n",
       "      <td>112542.58</td>\n",
       "      <td>0</td>\n",
       "    </tr>\n",
       "    <tr>\n",
       "      <th>2</th>\n",
       "      <td>3</td>\n",
       "      <td>15619304</td>\n",
       "      <td>Onio</td>\n",
       "      <td>502</td>\n",
       "      <td>France</td>\n",
       "      <td>Female</td>\n",
       "      <td>42</td>\n",
       "      <td>8</td>\n",
       "      <td>159660.80</td>\n",
       "      <td>3</td>\n",
       "      <td>1</td>\n",
       "      <td>0</td>\n",
       "      <td>113931.57</td>\n",
       "      <td>1</td>\n",
       "    </tr>\n",
       "    <tr>\n",
       "      <th>3</th>\n",
       "      <td>4</td>\n",
       "      <td>15701354</td>\n",
       "      <td>Boni</td>\n",
       "      <td>699</td>\n",
       "      <td>France</td>\n",
       "      <td>Female</td>\n",
       "      <td>39</td>\n",
       "      <td>1</td>\n",
       "      <td>0.00</td>\n",
       "      <td>2</td>\n",
       "      <td>0</td>\n",
       "      <td>0</td>\n",
       "      <td>93826.63</td>\n",
       "      <td>0</td>\n",
       "    </tr>\n",
       "    <tr>\n",
       "      <th>4</th>\n",
       "      <td>5</td>\n",
       "      <td>15737888</td>\n",
       "      <td>Mitchell</td>\n",
       "      <td>850</td>\n",
       "      <td>Spain</td>\n",
       "      <td>Female</td>\n",
       "      <td>43</td>\n",
       "      <td>2</td>\n",
       "      <td>125510.82</td>\n",
       "      <td>1</td>\n",
       "      <td>1</td>\n",
       "      <td>1</td>\n",
       "      <td>79084.10</td>\n",
       "      <td>0</td>\n",
       "    </tr>\n",
       "  </tbody>\n",
       "</table>\n",
       "</div>"
      ],
      "text/plain": [
       "   RowNumber  CustomerId   Surname  CreditScore Geography  Gender  Age  \\\n",
       "0          1    15634602  Hargrave          619    France  Female   42   \n",
       "1          2    15647311      Hill          608     Spain  Female   41   \n",
       "2          3    15619304      Onio          502    France  Female   42   \n",
       "3          4    15701354      Boni          699    France  Female   39   \n",
       "4          5    15737888  Mitchell          850     Spain  Female   43   \n",
       "\n",
       "   Tenure    Balance  NumOfProducts  HasCrCard  IsActiveMember  \\\n",
       "0       2       0.00              1          1               1   \n",
       "1       1   83807.86              1          0               1   \n",
       "2       8  159660.80              3          1               0   \n",
       "3       1       0.00              2          0               0   \n",
       "4       2  125510.82              1          1               1   \n",
       "\n",
       "   EstimatedSalary  Exited  \n",
       "0        101348.88       1  \n",
       "1        112542.58       0  \n",
       "2        113931.57       1  \n",
       "3         93826.63       0  \n",
       "4         79084.10       0  "
      ]
     },
     "execution_count": 2,
     "metadata": {},
     "output_type": "execute_result"
    }
   ],
   "source": [
    "bank = pd.read_csv('/kaggle/input/bank-customer-churn-prediction/Churn_Modelling.csv')\n",
    "bank.head()"
   ]
  },
  {
   "cell_type": "markdown",
   "id": "9416661b",
   "metadata": {
    "papermill": {
     "duration": 0.00804,
     "end_time": "2023-11-18T07:13:32.258222",
     "exception": false,
     "start_time": "2023-11-18T07:13:32.250182",
     "status": "completed"
    },
    "tags": []
   },
   "source": [
    "# **EDA**"
   ]
  },
  {
   "cell_type": "code",
   "execution_count": 3,
   "id": "17d85fb6",
   "metadata": {
    "execution": {
     "iopub.execute_input": "2023-11-18T07:13:32.276469Z",
     "iopub.status.busy": "2023-11-18T07:13:32.276073Z",
     "iopub.status.idle": "2023-11-18T07:13:32.302522Z",
     "shell.execute_reply": "2023-11-18T07:13:32.301733Z"
    },
    "papermill": {
     "duration": 0.038139,
     "end_time": "2023-11-18T07:13:32.304710",
     "exception": false,
     "start_time": "2023-11-18T07:13:32.266571",
     "status": "completed"
    },
    "tags": []
   },
   "outputs": [
    {
     "name": "stdout",
     "output_type": "stream",
     "text": [
      "<class 'pandas.core.frame.DataFrame'>\n",
      "RangeIndex: 10000 entries, 0 to 9999\n",
      "Data columns (total 14 columns):\n",
      " #   Column           Non-Null Count  Dtype  \n",
      "---  ------           --------------  -----  \n",
      " 0   RowNumber        10000 non-null  int64  \n",
      " 1   CustomerId       10000 non-null  int64  \n",
      " 2   Surname          10000 non-null  object \n",
      " 3   CreditScore      10000 non-null  int64  \n",
      " 4   Geography        10000 non-null  object \n",
      " 5   Gender           10000 non-null  object \n",
      " 6   Age              10000 non-null  int64  \n",
      " 7   Tenure           10000 non-null  int64  \n",
      " 8   Balance          10000 non-null  float64\n",
      " 9   NumOfProducts    10000 non-null  int64  \n",
      " 10  HasCrCard        10000 non-null  int64  \n",
      " 11  IsActiveMember   10000 non-null  int64  \n",
      " 12  EstimatedSalary  10000 non-null  float64\n",
      " 13  Exited           10000 non-null  int64  \n",
      "dtypes: float64(2), int64(9), object(3)\n",
      "memory usage: 1.1+ MB\n"
     ]
    }
   ],
   "source": [
    "bank.info()"
   ]
  },
  {
   "cell_type": "code",
   "execution_count": 4,
   "id": "fb72dffb",
   "metadata": {
    "execution": {
     "iopub.execute_input": "2023-11-18T07:13:32.324133Z",
     "iopub.status.busy": "2023-11-18T07:13:32.323102Z",
     "iopub.status.idle": "2023-11-18T07:13:32.369649Z",
     "shell.execute_reply": "2023-11-18T07:13:32.368473Z"
    },
    "papermill": {
     "duration": 0.058677,
     "end_time": "2023-11-18T07:13:32.372037",
     "exception": false,
     "start_time": "2023-11-18T07:13:32.313360",
     "status": "completed"
    },
    "tags": []
   },
   "outputs": [
    {
     "data": {
      "text/html": [
       "<div>\n",
       "<style scoped>\n",
       "    .dataframe tbody tr th:only-of-type {\n",
       "        vertical-align: middle;\n",
       "    }\n",
       "\n",
       "    .dataframe tbody tr th {\n",
       "        vertical-align: top;\n",
       "    }\n",
       "\n",
       "    .dataframe thead th {\n",
       "        text-align: right;\n",
       "    }\n",
       "</style>\n",
       "<table border=\"1\" class=\"dataframe\">\n",
       "  <thead>\n",
       "    <tr style=\"text-align: right;\">\n",
       "      <th></th>\n",
       "      <th>RowNumber</th>\n",
       "      <th>CustomerId</th>\n",
       "      <th>CreditScore</th>\n",
       "      <th>Age</th>\n",
       "      <th>Tenure</th>\n",
       "      <th>Balance</th>\n",
       "      <th>NumOfProducts</th>\n",
       "      <th>HasCrCard</th>\n",
       "      <th>IsActiveMember</th>\n",
       "      <th>EstimatedSalary</th>\n",
       "      <th>Exited</th>\n",
       "    </tr>\n",
       "  </thead>\n",
       "  <tbody>\n",
       "    <tr>\n",
       "      <th>count</th>\n",
       "      <td>10000.00000</td>\n",
       "      <td>1.000000e+04</td>\n",
       "      <td>10000.000000</td>\n",
       "      <td>10000.000000</td>\n",
       "      <td>10000.000000</td>\n",
       "      <td>10000.000000</td>\n",
       "      <td>10000.000000</td>\n",
       "      <td>10000.00000</td>\n",
       "      <td>10000.000000</td>\n",
       "      <td>10000.000000</td>\n",
       "      <td>10000.000000</td>\n",
       "    </tr>\n",
       "    <tr>\n",
       "      <th>mean</th>\n",
       "      <td>5000.50000</td>\n",
       "      <td>1.569094e+07</td>\n",
       "      <td>650.528800</td>\n",
       "      <td>38.921800</td>\n",
       "      <td>5.012800</td>\n",
       "      <td>76485.889288</td>\n",
       "      <td>1.530200</td>\n",
       "      <td>0.70550</td>\n",
       "      <td>0.515100</td>\n",
       "      <td>100090.239881</td>\n",
       "      <td>0.203700</td>\n",
       "    </tr>\n",
       "    <tr>\n",
       "      <th>std</th>\n",
       "      <td>2886.89568</td>\n",
       "      <td>7.193619e+04</td>\n",
       "      <td>96.653299</td>\n",
       "      <td>10.487806</td>\n",
       "      <td>2.892174</td>\n",
       "      <td>62397.405202</td>\n",
       "      <td>0.581654</td>\n",
       "      <td>0.45584</td>\n",
       "      <td>0.499797</td>\n",
       "      <td>57510.492818</td>\n",
       "      <td>0.402769</td>\n",
       "    </tr>\n",
       "    <tr>\n",
       "      <th>min</th>\n",
       "      <td>1.00000</td>\n",
       "      <td>1.556570e+07</td>\n",
       "      <td>350.000000</td>\n",
       "      <td>18.000000</td>\n",
       "      <td>0.000000</td>\n",
       "      <td>0.000000</td>\n",
       "      <td>1.000000</td>\n",
       "      <td>0.00000</td>\n",
       "      <td>0.000000</td>\n",
       "      <td>11.580000</td>\n",
       "      <td>0.000000</td>\n",
       "    </tr>\n",
       "    <tr>\n",
       "      <th>25%</th>\n",
       "      <td>2500.75000</td>\n",
       "      <td>1.562853e+07</td>\n",
       "      <td>584.000000</td>\n",
       "      <td>32.000000</td>\n",
       "      <td>3.000000</td>\n",
       "      <td>0.000000</td>\n",
       "      <td>1.000000</td>\n",
       "      <td>0.00000</td>\n",
       "      <td>0.000000</td>\n",
       "      <td>51002.110000</td>\n",
       "      <td>0.000000</td>\n",
       "    </tr>\n",
       "    <tr>\n",
       "      <th>50%</th>\n",
       "      <td>5000.50000</td>\n",
       "      <td>1.569074e+07</td>\n",
       "      <td>652.000000</td>\n",
       "      <td>37.000000</td>\n",
       "      <td>5.000000</td>\n",
       "      <td>97198.540000</td>\n",
       "      <td>1.000000</td>\n",
       "      <td>1.00000</td>\n",
       "      <td>1.000000</td>\n",
       "      <td>100193.915000</td>\n",
       "      <td>0.000000</td>\n",
       "    </tr>\n",
       "    <tr>\n",
       "      <th>75%</th>\n",
       "      <td>7500.25000</td>\n",
       "      <td>1.575323e+07</td>\n",
       "      <td>718.000000</td>\n",
       "      <td>44.000000</td>\n",
       "      <td>7.000000</td>\n",
       "      <td>127644.240000</td>\n",
       "      <td>2.000000</td>\n",
       "      <td>1.00000</td>\n",
       "      <td>1.000000</td>\n",
       "      <td>149388.247500</td>\n",
       "      <td>0.000000</td>\n",
       "    </tr>\n",
       "    <tr>\n",
       "      <th>max</th>\n",
       "      <td>10000.00000</td>\n",
       "      <td>1.581569e+07</td>\n",
       "      <td>850.000000</td>\n",
       "      <td>92.000000</td>\n",
       "      <td>10.000000</td>\n",
       "      <td>250898.090000</td>\n",
       "      <td>4.000000</td>\n",
       "      <td>1.00000</td>\n",
       "      <td>1.000000</td>\n",
       "      <td>199992.480000</td>\n",
       "      <td>1.000000</td>\n",
       "    </tr>\n",
       "  </tbody>\n",
       "</table>\n",
       "</div>"
      ],
      "text/plain": [
       "         RowNumber    CustomerId   CreditScore           Age        Tenure  \\\n",
       "count  10000.00000  1.000000e+04  10000.000000  10000.000000  10000.000000   \n",
       "mean    5000.50000  1.569094e+07    650.528800     38.921800      5.012800   \n",
       "std     2886.89568  7.193619e+04     96.653299     10.487806      2.892174   \n",
       "min        1.00000  1.556570e+07    350.000000     18.000000      0.000000   \n",
       "25%     2500.75000  1.562853e+07    584.000000     32.000000      3.000000   \n",
       "50%     5000.50000  1.569074e+07    652.000000     37.000000      5.000000   \n",
       "75%     7500.25000  1.575323e+07    718.000000     44.000000      7.000000   \n",
       "max    10000.00000  1.581569e+07    850.000000     92.000000     10.000000   \n",
       "\n",
       "             Balance  NumOfProducts    HasCrCard  IsActiveMember  \\\n",
       "count   10000.000000   10000.000000  10000.00000    10000.000000   \n",
       "mean    76485.889288       1.530200      0.70550        0.515100   \n",
       "std     62397.405202       0.581654      0.45584        0.499797   \n",
       "min         0.000000       1.000000      0.00000        0.000000   \n",
       "25%         0.000000       1.000000      0.00000        0.000000   \n",
       "50%     97198.540000       1.000000      1.00000        1.000000   \n",
       "75%    127644.240000       2.000000      1.00000        1.000000   \n",
       "max    250898.090000       4.000000      1.00000        1.000000   \n",
       "\n",
       "       EstimatedSalary        Exited  \n",
       "count     10000.000000  10000.000000  \n",
       "mean     100090.239881      0.203700  \n",
       "std       57510.492818      0.402769  \n",
       "min          11.580000      0.000000  \n",
       "25%       51002.110000      0.000000  \n",
       "50%      100193.915000      0.000000  \n",
       "75%      149388.247500      0.000000  \n",
       "max      199992.480000      1.000000  "
      ]
     },
     "execution_count": 4,
     "metadata": {},
     "output_type": "execute_result"
    }
   ],
   "source": [
    "bank.describe()"
   ]
  },
  {
   "cell_type": "code",
   "execution_count": 5,
   "id": "6843d2e7",
   "metadata": {
    "execution": {
     "iopub.execute_input": "2023-11-18T07:13:32.391821Z",
     "iopub.status.busy": "2023-11-18T07:13:32.391399Z",
     "iopub.status.idle": "2023-11-18T07:13:32.401200Z",
     "shell.execute_reply": "2023-11-18T07:13:32.400197Z"
    },
    "papermill": {
     "duration": 0.021997,
     "end_time": "2023-11-18T07:13:32.403230",
     "exception": false,
     "start_time": "2023-11-18T07:13:32.381233",
     "status": "completed"
    },
    "tags": []
   },
   "outputs": [
    {
     "data": {
      "text/plain": [
       "RowNumber          0\n",
       "CustomerId         0\n",
       "Surname            0\n",
       "CreditScore        0\n",
       "Geography          0\n",
       "Gender             0\n",
       "Age                0\n",
       "Tenure             0\n",
       "Balance            0\n",
       "NumOfProducts      0\n",
       "HasCrCard          0\n",
       "IsActiveMember     0\n",
       "EstimatedSalary    0\n",
       "Exited             0\n",
       "dtype: int64"
      ]
     },
     "execution_count": 5,
     "metadata": {},
     "output_type": "execute_result"
    }
   ],
   "source": [
    "bank.isnull().sum()"
   ]
  },
  {
   "cell_type": "code",
   "execution_count": 6,
   "id": "d6ff46cc",
   "metadata": {
    "execution": {
     "iopub.execute_input": "2023-11-18T07:13:32.423123Z",
     "iopub.status.busy": "2023-11-18T07:13:32.422760Z",
     "iopub.status.idle": "2023-11-18T07:13:32.441249Z",
     "shell.execute_reply": "2023-11-18T07:13:32.440168Z"
    },
    "papermill": {
     "duration": 0.031136,
     "end_time": "2023-11-18T07:13:32.443449",
     "exception": false,
     "start_time": "2023-11-18T07:13:32.412313",
     "status": "completed"
    },
    "tags": []
   },
   "outputs": [
    {
     "data": {
      "text/plain": [
       "0       False\n",
       "1       False\n",
       "2       False\n",
       "3       False\n",
       "4       False\n",
       "        ...  \n",
       "9995    False\n",
       "9996    False\n",
       "9997    False\n",
       "9998    False\n",
       "9999    False\n",
       "Length: 10000, dtype: bool"
      ]
     },
     "execution_count": 6,
     "metadata": {},
     "output_type": "execute_result"
    }
   ],
   "source": [
    "bank.duplicated()"
   ]
  },
  {
   "cell_type": "markdown",
   "id": "f8cb8ea9",
   "metadata": {
    "papermill": {
     "duration": 0.008905,
     "end_time": "2023-11-18T07:13:32.461597",
     "exception": false,
     "start_time": "2023-11-18T07:13:32.452692",
     "status": "completed"
    },
    "tags": []
   },
   "source": [
    "NO NULL AND DUPLICATED VALUES IN THIS DATASET"
   ]
  },
  {
   "cell_type": "code",
   "execution_count": 7,
   "id": "3b6a2559",
   "metadata": {
    "execution": {
     "iopub.execute_input": "2023-11-18T07:13:32.482166Z",
     "iopub.status.busy": "2023-11-18T07:13:32.481184Z",
     "iopub.status.idle": "2023-11-18T07:13:32.500740Z",
     "shell.execute_reply": "2023-11-18T07:13:32.499689Z"
    },
    "papermill": {
     "duration": 0.031999,
     "end_time": "2023-11-18T07:13:32.502740",
     "exception": false,
     "start_time": "2023-11-18T07:13:32.470741",
     "status": "completed"
    },
    "tags": []
   },
   "outputs": [
    {
     "data": {
      "text/html": [
       "<div>\n",
       "<style scoped>\n",
       "    .dataframe tbody tr th:only-of-type {\n",
       "        vertical-align: middle;\n",
       "    }\n",
       "\n",
       "    .dataframe tbody tr th {\n",
       "        vertical-align: top;\n",
       "    }\n",
       "\n",
       "    .dataframe thead th {\n",
       "        text-align: right;\n",
       "    }\n",
       "</style>\n",
       "<table border=\"1\" class=\"dataframe\">\n",
       "  <thead>\n",
       "    <tr style=\"text-align: right;\">\n",
       "      <th></th>\n",
       "      <th>CreditScore</th>\n",
       "      <th>Geography</th>\n",
       "      <th>Gender</th>\n",
       "      <th>Age</th>\n",
       "      <th>Tenure</th>\n",
       "      <th>Balance</th>\n",
       "      <th>NumOfProducts</th>\n",
       "      <th>HasCrCard</th>\n",
       "      <th>IsActiveMember</th>\n",
       "      <th>EstimatedSalary</th>\n",
       "      <th>Exited</th>\n",
       "    </tr>\n",
       "  </thead>\n",
       "  <tbody>\n",
       "    <tr>\n",
       "      <th>0</th>\n",
       "      <td>619</td>\n",
       "      <td>France</td>\n",
       "      <td>Female</td>\n",
       "      <td>42</td>\n",
       "      <td>2</td>\n",
       "      <td>0.00</td>\n",
       "      <td>1</td>\n",
       "      <td>1</td>\n",
       "      <td>1</td>\n",
       "      <td>101348.88</td>\n",
       "      <td>1</td>\n",
       "    </tr>\n",
       "    <tr>\n",
       "      <th>1</th>\n",
       "      <td>608</td>\n",
       "      <td>Spain</td>\n",
       "      <td>Female</td>\n",
       "      <td>41</td>\n",
       "      <td>1</td>\n",
       "      <td>83807.86</td>\n",
       "      <td>1</td>\n",
       "      <td>0</td>\n",
       "      <td>1</td>\n",
       "      <td>112542.58</td>\n",
       "      <td>0</td>\n",
       "    </tr>\n",
       "    <tr>\n",
       "      <th>2</th>\n",
       "      <td>502</td>\n",
       "      <td>France</td>\n",
       "      <td>Female</td>\n",
       "      <td>42</td>\n",
       "      <td>8</td>\n",
       "      <td>159660.80</td>\n",
       "      <td>3</td>\n",
       "      <td>1</td>\n",
       "      <td>0</td>\n",
       "      <td>113931.57</td>\n",
       "      <td>1</td>\n",
       "    </tr>\n",
       "    <tr>\n",
       "      <th>3</th>\n",
       "      <td>699</td>\n",
       "      <td>France</td>\n",
       "      <td>Female</td>\n",
       "      <td>39</td>\n",
       "      <td>1</td>\n",
       "      <td>0.00</td>\n",
       "      <td>2</td>\n",
       "      <td>0</td>\n",
       "      <td>0</td>\n",
       "      <td>93826.63</td>\n",
       "      <td>0</td>\n",
       "    </tr>\n",
       "    <tr>\n",
       "      <th>4</th>\n",
       "      <td>850</td>\n",
       "      <td>Spain</td>\n",
       "      <td>Female</td>\n",
       "      <td>43</td>\n",
       "      <td>2</td>\n",
       "      <td>125510.82</td>\n",
       "      <td>1</td>\n",
       "      <td>1</td>\n",
       "      <td>1</td>\n",
       "      <td>79084.10</td>\n",
       "      <td>0</td>\n",
       "    </tr>\n",
       "  </tbody>\n",
       "</table>\n",
       "</div>"
      ],
      "text/plain": [
       "   CreditScore Geography  Gender  Age  Tenure    Balance  NumOfProducts  \\\n",
       "0          619    France  Female   42       2       0.00              1   \n",
       "1          608     Spain  Female   41       1   83807.86              1   \n",
       "2          502    France  Female   42       8  159660.80              3   \n",
       "3          699    France  Female   39       1       0.00              2   \n",
       "4          850     Spain  Female   43       2  125510.82              1   \n",
       "\n",
       "   HasCrCard  IsActiveMember  EstimatedSalary  Exited  \n",
       "0          1               1        101348.88       1  \n",
       "1          0               1        112542.58       0  \n",
       "2          1               0        113931.57       1  \n",
       "3          0               0         93826.63       0  \n",
       "4          1               1         79084.10       0  "
      ]
     },
     "execution_count": 7,
     "metadata": {},
     "output_type": "execute_result"
    }
   ],
   "source": [
    "bank.drop(['CustomerId','RowNumber','Surname'],axis=1,inplace=True)\n",
    "bank.head()"
   ]
  },
  {
   "cell_type": "markdown",
   "id": "36ce0f3d",
   "metadata": {
    "papermill": {
     "duration": 0.009136,
     "end_time": "2023-11-18T07:13:32.521362",
     "exception": false,
     "start_time": "2023-11-18T07:13:32.512226",
     "status": "completed"
    },
    "tags": []
   },
   "source": [
    "Removing RowNumber,CustomerId and Surname as it can make the dataset noisy"
   ]
  },
  {
   "cell_type": "code",
   "execution_count": 8,
   "id": "f32b02a7",
   "metadata": {
    "execution": {
     "iopub.execute_input": "2023-11-18T07:13:32.541974Z",
     "iopub.status.busy": "2023-11-18T07:13:32.541562Z",
     "iopub.status.idle": "2023-11-18T07:13:33.816535Z",
     "shell.execute_reply": "2023-11-18T07:13:33.815443Z"
    },
    "papermill": {
     "duration": 1.28836,
     "end_time": "2023-11-18T07:13:33.819145",
     "exception": false,
     "start_time": "2023-11-18T07:13:32.530785",
     "status": "completed"
    },
    "tags": []
   },
   "outputs": [],
   "source": [
    "import seaborn as sns\n",
    "import matplotlib.pyplot as plt"
   ]
  },
  {
   "cell_type": "code",
   "execution_count": 9,
   "id": "87ce1be4",
   "metadata": {
    "execution": {
     "iopub.execute_input": "2023-11-18T07:13:33.839418Z",
     "iopub.status.busy": "2023-11-18T07:13:33.839011Z",
     "iopub.status.idle": "2023-11-18T07:13:34.279169Z",
     "shell.execute_reply": "2023-11-18T07:13:34.278049Z"
    },
    "papermill": {
     "duration": 0.452917,
     "end_time": "2023-11-18T07:13:34.281494",
     "exception": false,
     "start_time": "2023-11-18T07:13:33.828577",
     "status": "completed"
    },
    "tags": []
   },
   "outputs": [
    {
     "data": {
      "image/png": "[encoded data removed]",
      "text/plain": [
       "<Figure size 1500x800 with 1 Axes>"
      ]
     },
     "metadata": {},
     "output_type": "display_data"
    }
   ],
   "source": [
    "#Checking for outliers\n",
    "\n",
    "plt.figure(figsize=(15,8))\n",
    "sns.boxplot(data=bank)\n",
    "plt.show()"
   ]
  },
  {
   "cell_type": "code",
   "execution_count": 10,
   "id": "c4ec8897",
   "metadata": {
    "execution": {
     "iopub.execute_input": "2023-11-18T07:13:34.303290Z",
     "iopub.status.busy": "2023-11-18T07:13:34.302467Z",
     "iopub.status.idle": "2023-11-18T07:13:34.516262Z",
     "shell.execute_reply": "2023-11-18T07:13:34.515144Z"
    },
    "papermill": {
     "duration": 0.226961,
     "end_time": "2023-11-18T07:13:34.518398",
     "exception": false,
     "start_time": "2023-11-18T07:13:34.291437",
     "status": "completed"
    },
    "tags": []
   },
   "outputs": [
    {
     "data": {
      "text/plain": [
       "<Axes: xlabel='Exited', ylabel='count'>"
      ]
     },
     "execution_count": 10,
     "metadata": {},
     "output_type": "execute_result"
    },
    {
     "data": {
      "image/png": "[encoded data removed]",
      "text/plain": [
       "<Figure size 640x480 with 1 Axes>"
      ]
     },
     "metadata": {},
     "output_type": "display_data"
    }
   ],
   "source": [
    "#plt.figure(figsize=(15,5))\n",
    "sns.countplot(data=bank,x='Exited')"
   ]
  },
  {
   "cell_type": "markdown",
   "id": "7010d1ad",
   "metadata": {
    "papermill": {
     "duration": 0.010376,
     "end_time": "2023-11-18T07:13:34.539025",
     "exception": false,
     "start_time": "2023-11-18T07:13:34.528649",
     "status": "completed"
    },
    "tags": []
   },
   "source": [
    "This Visualization of Exited tells us that most of the customer have stayed"
   ]
  },
  {
   "cell_type": "code",
   "execution_count": 11,
   "id": "f4e3e391",
   "metadata": {
    "execution": {
     "iopub.execute_input": "2023-11-18T07:13:34.561460Z",
     "iopub.status.busy": "2023-11-18T07:13:34.561030Z",
     "iopub.status.idle": "2023-11-18T07:13:34.760245Z",
     "shell.execute_reply": "2023-11-18T07:13:34.759218Z"
    },
    "papermill": {
     "duration": 0.21336,
     "end_time": "2023-11-18T07:13:34.762663",
     "exception": false,
     "start_time": "2023-11-18T07:13:34.549303",
     "status": "completed"
    },
    "tags": []
   },
   "outputs": [
    {
     "data": {
      "text/plain": [
       "<Axes: xlabel='IsActiveMember', ylabel='count'>"
      ]
     },
     "execution_count": 11,
     "metadata": {},
     "output_type": "execute_result"
    },
    {
     "data": {
      "image/png": "[encoded data removed]",
      "text/plain": [
       "<Figure size 640x480 with 1 Axes>"
      ]
     },
     "metadata": {},
     "output_type": "display_data"
    }
   ],
   "source": [
    "sns.countplot(data=bank,x='IsActiveMember')"
   ]
  },
  {
   "cell_type": "markdown",
   "id": "6f7e98ef",
   "metadata": {
    "papermill": {
     "duration": 0.010398,
     "end_time": "2023-11-18T07:13:34.783811",
     "exception": false,
     "start_time": "2023-11-18T07:13:34.773413",
     "status": "completed"
    },
    "tags": []
   },
   "source": [
    "Some of them are active members"
   ]
  },
  {
   "cell_type": "code",
   "execution_count": 12,
   "id": "a74a6306",
   "metadata": {
    "execution": {
     "iopub.execute_input": "2023-11-18T07:13:34.807288Z",
     "iopub.status.busy": "2023-11-18T07:13:34.806282Z",
     "iopub.status.idle": "2023-11-18T07:13:35.013444Z",
     "shell.execute_reply": "2023-11-18T07:13:35.012291Z"
    },
    "papermill": {
     "duration": 0.22121,
     "end_time": "2023-11-18T07:13:35.015664",
     "exception": false,
     "start_time": "2023-11-18T07:13:34.794454",
     "status": "completed"
    },
    "tags": []
   },
   "outputs": [
    {
     "data": {
      "text/plain": [
       "<Axes: xlabel='HasCrCard', ylabel='count'>"
      ]
     },
     "execution_count": 12,
     "metadata": {},
     "output_type": "execute_result"
    },
    {
     "data": {
      "image/png": "[encoded data removed]",
      "text/plain": [
       "<Figure size 640x480 with 1 Axes>"
      ]
     },
     "metadata": {},
     "output_type": "display_data"
    }
   ],
   "source": [
    "sns.countplot(data=bank,x='HasCrCard')"
   ]
  },
  {
   "cell_type": "markdown",
   "id": "d6ebeb68",
   "metadata": {
    "papermill": {
     "duration": 0.011008,
     "end_time": "2023-11-18T07:13:35.037705",
     "exception": false,
     "start_time": "2023-11-18T07:13:35.026697",
     "status": "completed"
    },
    "tags": []
   },
   "source": [
    "most of the customers have Credit Card available"
   ]
  },
  {
   "cell_type": "code",
   "execution_count": 13,
   "id": "20da51f7",
   "metadata": {
    "execution": {
     "iopub.execute_input": "2023-11-18T07:13:35.061632Z",
     "iopub.status.busy": "2023-11-18T07:13:35.061269Z",
     "iopub.status.idle": "2023-11-18T07:13:35.264354Z",
     "shell.execute_reply": "2023-11-18T07:13:35.263247Z"
    },
    "papermill": {
     "duration": 0.217575,
     "end_time": "2023-11-18T07:13:35.266635",
     "exception": false,
     "start_time": "2023-11-18T07:13:35.049060",
     "status": "completed"
    },
    "tags": []
   },
   "outputs": [
    {
     "data": {
      "text/plain": [
       "<Axes: xlabel='Gender', ylabel='count'>"
      ]
     },
     "execution_count": 13,
     "metadata": {},
     "output_type": "execute_result"
    },
    {
     "data": {
      "image/png": "[encoded data removed]",
      "text/plain": [
       "<Figure size 640x480 with 1 Axes>"
      ]
     },
     "metadata": {},
     "output_type": "display_data"
    }
   ],
   "source": [
    "sns.countplot(data=bank,x='Gender')"
   ]
  },
  {
   "cell_type": "markdown",
   "id": "d7bf7151",
   "metadata": {
    "papermill": {
     "duration": 0.011168,
     "end_time": "2023-11-18T07:13:35.289498",
     "exception": false,
     "start_time": "2023-11-18T07:13:35.278330",
     "status": "completed"
    },
    "tags": []
   },
   "source": [
    "Most of the male use Bank because females are ☕"
   ]
  },
  {
   "cell_type": "code",
   "execution_count": 14,
   "id": "e5b1812b",
   "metadata": {
    "execution": {
     "iopub.execute_input": "2023-11-18T07:13:35.314034Z",
     "iopub.status.busy": "2023-11-18T07:13:35.313599Z",
     "iopub.status.idle": "2023-11-18T07:13:35.526283Z",
     "shell.execute_reply": "2023-11-18T07:13:35.525033Z"
    },
    "papermill": {
     "duration": 0.227641,
     "end_time": "2023-11-18T07:13:35.528778",
     "exception": false,
     "start_time": "2023-11-18T07:13:35.301137",
     "status": "completed"
    },
    "tags": []
   },
   "outputs": [
    {
     "data": {
      "text/plain": [
       "<Axes: xlabel='Geography', ylabel='count'>"
      ]
     },
     "execution_count": 14,
     "metadata": {},
     "output_type": "execute_result"
    },
    {
     "data": {
      "image/png": "[encoded data removed]",
      "text/plain": [
       "<Figure size 640x480 with 1 Axes>"
      ]
     },
     "metadata": {},
     "output_type": "display_data"
    }
   ],
   "source": [
    "sns.countplot(data=bank,x='Geography')"
   ]
  },
  {
   "cell_type": "markdown",
   "id": "8aae2260",
   "metadata": {
    "papermill": {
     "duration": 0.012031,
     "end_time": "2023-11-18T07:13:35.553039",
     "exception": false,
     "start_time": "2023-11-18T07:13:35.541008",
     "status": "completed"
    },
    "tags": []
   },
   "source": [
    "French Customers use more Banks than Spain and Germany"
   ]
  },
  {
   "cell_type": "code",
   "execution_count": 15,
   "id": "9f358b7d",
   "metadata": {
    "execution": {
     "iopub.execute_input": "2023-11-18T07:13:35.638244Z",
     "iopub.status.busy": "2023-11-18T07:13:35.637527Z",
     "iopub.status.idle": "2023-11-18T07:13:35.849607Z",
     "shell.execute_reply": "2023-11-18T07:13:35.848515Z"
    },
    "papermill": {
     "duration": 0.227736,
     "end_time": "2023-11-18T07:13:35.851996",
     "exception": false,
     "start_time": "2023-11-18T07:13:35.624260",
     "status": "completed"
    },
    "tags": []
   },
   "outputs": [
    {
     "data": {
      "text/plain": [
       "<Axes: xlabel='NumOfProducts', ylabel='count'>"
      ]
     },
     "execution_count": 15,
     "metadata": {},
     "output_type": "execute_result"
    },
    {
     "data": {
      "image/png": "[encoded data removed]",
      "text/plain": [
       "<Figure size 640x480 with 1 Axes>"
      ]
     },
     "metadata": {},
     "output_type": "display_data"
    }
   ],
   "source": [
    "sns.countplot(data=bank,x='NumOfProducts')"
   ]
  },
  {
   "cell_type": "markdown",
   "id": "dfd4a3e1",
   "metadata": {
    "papermill": {
     "duration": 0.011946,
     "end_time": "2023-11-18T07:13:35.876416",
     "exception": false,
     "start_time": "2023-11-18T07:13:35.864470",
     "status": "completed"
    },
    "tags": []
   },
   "source": [
    "Most of the peoples only take 1 num of product"
   ]
  },
  {
   "cell_type": "code",
   "execution_count": 16,
   "id": "47b48143",
   "metadata": {
    "execution": {
     "iopub.execute_input": "2023-11-18T07:13:35.902554Z",
     "iopub.status.busy": "2023-11-18T07:13:35.902138Z",
     "iopub.status.idle": "2023-11-18T07:13:35.907417Z",
     "shell.execute_reply": "2023-11-18T07:13:35.906583Z"
    },
    "papermill": {
     "duration": 0.020853,
     "end_time": "2023-11-18T07:13:35.909447",
     "exception": false,
     "start_time": "2023-11-18T07:13:35.888594",
     "status": "completed"
    },
    "tags": []
   },
   "outputs": [],
   "source": [
    "bank1 = bank.copy()"
   ]
  },
  {
   "cell_type": "markdown",
   "id": "89849050",
   "metadata": {
    "papermill": {
     "duration": 0.012376,
     "end_time": "2023-11-18T07:13:35.934370",
     "exception": false,
     "start_time": "2023-11-18T07:13:35.921994",
     "status": "completed"
    },
    "tags": []
   },
   "source": [
    "Copying the dataset for backup and appling correlation to it"
   ]
  },
  {
   "cell_type": "code",
   "execution_count": 17,
   "id": "ea192702",
   "metadata": {
    "execution": {
     "iopub.execute_input": "2023-11-18T07:13:35.961906Z",
     "iopub.status.busy": "2023-11-18T07:13:35.960778Z",
     "iopub.status.idle": "2023-11-18T07:13:35.976261Z",
     "shell.execute_reply": "2023-11-18T07:13:35.975307Z"
    },
    "papermill": {
     "duration": 0.031333,
     "end_time": "2023-11-18T07:13:35.978451",
     "exception": false,
     "start_time": "2023-11-18T07:13:35.947118",
     "status": "completed"
    },
    "tags": []
   },
   "outputs": [
    {
     "data": {
      "text/html": [
       "<div>\n",
       "<style scoped>\n",
       "    .dataframe tbody tr th:only-of-type {\n",
       "        vertical-align: middle;\n",
       "    }\n",
       "\n",
       "    .dataframe tbody tr th {\n",
       "        vertical-align: top;\n",
       "    }\n",
       "\n",
       "    .dataframe thead th {\n",
       "        text-align: right;\n",
       "    }\n",
       "</style>\n",
       "<table border=\"1\" class=\"dataframe\">\n",
       "  <thead>\n",
       "    <tr style=\"text-align: right;\">\n",
       "      <th></th>\n",
       "      <th>CreditScore</th>\n",
       "      <th>Age</th>\n",
       "      <th>Tenure</th>\n",
       "      <th>Balance</th>\n",
       "      <th>NumOfProducts</th>\n",
       "      <th>HasCrCard</th>\n",
       "      <th>IsActiveMember</th>\n",
       "      <th>EstimatedSalary</th>\n",
       "      <th>Exited</th>\n",
       "    </tr>\n",
       "  </thead>\n",
       "  <tbody>\n",
       "    <tr>\n",
       "      <th>0</th>\n",
       "      <td>619</td>\n",
       "      <td>42</td>\n",
       "      <td>2</td>\n",
       "      <td>0.00</td>\n",
       "      <td>1</td>\n",
       "      <td>1</td>\n",
       "      <td>1</td>\n",
       "      <td>101348.88</td>\n",
       "      <td>1</td>\n",
       "    </tr>\n",
       "    <tr>\n",
       "      <th>1</th>\n",
       "      <td>608</td>\n",
       "      <td>41</td>\n",
       "      <td>1</td>\n",
       "      <td>83807.86</td>\n",
       "      <td>1</td>\n",
       "      <td>0</td>\n",
       "      <td>1</td>\n",
       "      <td>112542.58</td>\n",
       "      <td>0</td>\n",
       "    </tr>\n",
       "    <tr>\n",
       "      <th>2</th>\n",
       "      <td>502</td>\n",
       "      <td>42</td>\n",
       "      <td>8</td>\n",
       "      <td>159660.80</td>\n",
       "      <td>3</td>\n",
       "      <td>1</td>\n",
       "      <td>0</td>\n",
       "      <td>113931.57</td>\n",
       "      <td>1</td>\n",
       "    </tr>\n",
       "    <tr>\n",
       "      <th>3</th>\n",
       "      <td>699</td>\n",
       "      <td>39</td>\n",
       "      <td>1</td>\n",
       "      <td>0.00</td>\n",
       "      <td>2</td>\n",
       "      <td>0</td>\n",
       "      <td>0</td>\n",
       "      <td>93826.63</td>\n",
       "      <td>0</td>\n",
       "    </tr>\n",
       "    <tr>\n",
       "      <th>4</th>\n",
       "      <td>850</td>\n",
       "      <td>43</td>\n",
       "      <td>2</td>\n",
       "      <td>125510.82</td>\n",
       "      <td>1</td>\n",
       "      <td>1</td>\n",
       "      <td>1</td>\n",
       "      <td>79084.10</td>\n",
       "      <td>0</td>\n",
       "    </tr>\n",
       "  </tbody>\n",
       "</table>\n",
       "</div>"
      ],
      "text/plain": [
       "   CreditScore  Age  Tenure    Balance  NumOfProducts  HasCrCard  \\\n",
       "0          619   42       2       0.00              1          1   \n",
       "1          608   41       1   83807.86              1          0   \n",
       "2          502   42       8  159660.80              3          1   \n",
       "3          699   39       1       0.00              2          0   \n",
       "4          850   43       2  125510.82              1          1   \n",
       "\n",
       "   IsActiveMember  EstimatedSalary  Exited  \n",
       "0               1        101348.88       1  \n",
       "1               1        112542.58       0  \n",
       "2               0        113931.57       1  \n",
       "3               0         93826.63       0  \n",
       "4               1         79084.10       0  "
      ]
     },
     "execution_count": 17,
     "metadata": {},
     "output_type": "execute_result"
    }
   ],
   "source": [
    "bank1.drop(['Gender','Geography'],axis=1,inplace=True)\n",
    "bank1.head()"
   ]
  },
  {
   "cell_type": "markdown",
   "id": "52514efd",
   "metadata": {
    "papermill": {
     "duration": 0.012361,
     "end_time": "2023-11-18T07:13:36.003557",
     "exception": false,
     "start_time": "2023-11-18T07:13:35.991196",
     "status": "completed"
    },
    "tags": []
   },
   "source": [
    "Dropping Gender and Geography for Creating a Correlation as Correlation cannot be done on String Values"
   ]
  },
  {
   "cell_type": "code",
   "execution_count": 18,
   "id": "b9552412",
   "metadata": {
    "execution": {
     "iopub.execute_input": "2023-11-18T07:13:36.030812Z",
     "iopub.status.busy": "2023-11-18T07:13:36.030455Z",
     "iopub.status.idle": "2023-11-18T07:13:36.702291Z",
     "shell.execute_reply": "2023-11-18T07:13:36.701191Z"
    },
    "papermill": {
     "duration": 0.688347,
     "end_time": "2023-11-18T07:13:36.704608",
     "exception": false,
     "start_time": "2023-11-18T07:13:36.016261",
     "status": "completed"
    },
    "tags": []
   },
   "outputs": [
    {
     "data": {
      "text/plain": [
       "<Axes: >"
      ]
     },
     "execution_count": 18,
     "metadata": {},
     "output_type": "execute_result"
    },
    {
     "data": {
      "image/png": "[encoded data removed]",
      "text/plain": [
       "<Figure size 1500x800 with 2 Axes>"
      ]
     },
     "metadata": {},
     "output_type": "display_data"
    }
   ],
   "source": [
    "plt.figure(figsize=(15,8))\n",
    "sns.heatmap(bank1.corr(),annot=True)"
   ]
  },
  {
   "cell_type": "code",
   "execution_count": 19,
   "id": "ab6d4025",
   "metadata": {
    "execution": {
     "iopub.execute_input": "2023-11-18T07:13:36.736037Z",
     "iopub.status.busy": "2023-11-18T07:13:36.735330Z",
     "iopub.status.idle": "2023-11-18T07:13:36.743450Z",
     "shell.execute_reply": "2023-11-18T07:13:36.742414Z"
    },
    "papermill": {
     "duration": 0.026273,
     "end_time": "2023-11-18T07:13:36.745735",
     "exception": false,
     "start_time": "2023-11-18T07:13:36.719462",
     "status": "completed"
    },
    "tags": []
   },
   "outputs": [
    {
     "data": {
      "text/plain": [
       "Exited\n",
       "0    7963\n",
       "1    2037\n",
       "Name: count, dtype: int64"
      ]
     },
     "execution_count": 19,
     "metadata": {},
     "output_type": "execute_result"
    }
   ],
   "source": [
    "bank['Exited'].value_counts()"
   ]
  },
  {
   "cell_type": "code",
   "execution_count": 20,
   "id": "6416bf93",
   "metadata": {
    "execution": {
     "iopub.execute_input": "2023-11-18T07:13:36.777672Z",
     "iopub.status.busy": "2023-11-18T07:13:36.777292Z",
     "iopub.status.idle": "2023-11-18T07:13:36.781545Z",
     "shell.execute_reply": "2023-11-18T07:13:36.780458Z"
    },
    "papermill": {
     "duration": 0.023541,
     "end_time": "2023-11-18T07:13:36.784008",
     "exception": false,
     "start_time": "2023-11-18T07:13:36.760467",
     "status": "completed"
    },
    "tags": []
   },
   "outputs": [],
   "source": [
    "#Now doing Upsampling\n",
    "\n",
    "#class_1_upsampled = resample(class_1, replace=True, n_samples=len(class_0), random_state=42)\n",
    "\n",
    "#upsampled_data = pd.concat([class_0, class_1_upsampled])"
   ]
  },
  {
   "cell_type": "code",
   "execution_count": 21,
   "id": "5138249e",
   "metadata": {
    "execution": {
     "iopub.execute_input": "2023-11-18T07:13:36.815108Z",
     "iopub.status.busy": "2023-11-18T07:13:36.814723Z",
     "iopub.status.idle": "2023-11-18T07:13:36.818959Z",
     "shell.execute_reply": "2023-11-18T07:13:36.818212Z"
    },
    "papermill": {
     "duration": 0.021936,
     "end_time": "2023-11-18T07:13:36.820762",
     "exception": false,
     "start_time": "2023-11-18T07:13:36.798826",
     "status": "completed"
    },
    "tags": []
   },
   "outputs": [],
   "source": [
    "#upsampled_data['Exited'].value_counts()"
   ]
  },
  {
   "cell_type": "code",
   "execution_count": 22,
   "id": "06ac67ea",
   "metadata": {
    "execution": {
     "iopub.execute_input": "2023-11-18T07:13:36.852287Z",
     "iopub.status.busy": "2023-11-18T07:13:36.851593Z",
     "iopub.status.idle": "2023-11-18T07:13:37.017200Z",
     "shell.execute_reply": "2023-11-18T07:13:37.015996Z"
    },
    "papermill": {
     "duration": 0.184096,
     "end_time": "2023-11-18T07:13:37.019602",
     "exception": false,
     "start_time": "2023-11-18T07:13:36.835506",
     "status": "completed"
    },
    "tags": []
   },
   "outputs": [
    {
     "data": {
      "text/html": [
       "<div>\n",
       "<style scoped>\n",
       "    .dataframe tbody tr th:only-of-type {\n",
       "        vertical-align: middle;\n",
       "    }\n",
       "\n",
       "    .dataframe tbody tr th {\n",
       "        vertical-align: top;\n",
       "    }\n",
       "\n",
       "    .dataframe thead th {\n",
       "        text-align: right;\n",
       "    }\n",
       "</style>\n",
       "<table border=\"1\" class=\"dataframe\">\n",
       "  <thead>\n",
       "    <tr style=\"text-align: right;\">\n",
       "      <th></th>\n",
       "      <th>CreditScore</th>\n",
       "      <th>Geography</th>\n",
       "      <th>Gender</th>\n",
       "      <th>Age</th>\n",
       "      <th>Tenure</th>\n",
       "      <th>Balance</th>\n",
       "      <th>NumOfProducts</th>\n",
       "      <th>HasCrCard</th>\n",
       "      <th>IsActiveMember</th>\n",
       "      <th>EstimatedSalary</th>\n",
       "      <th>Exited</th>\n",
       "    </tr>\n",
       "  </thead>\n",
       "  <tbody>\n",
       "    <tr>\n",
       "      <th>0</th>\n",
       "      <td>619</td>\n",
       "      <td>0</td>\n",
       "      <td>0</td>\n",
       "      <td>42</td>\n",
       "      <td>2</td>\n",
       "      <td>0.00</td>\n",
       "      <td>1</td>\n",
       "      <td>1</td>\n",
       "      <td>1</td>\n",
       "      <td>101348.88</td>\n",
       "      <td>1</td>\n",
       "    </tr>\n",
       "    <tr>\n",
       "      <th>1</th>\n",
       "      <td>608</td>\n",
       "      <td>2</td>\n",
       "      <td>0</td>\n",
       "      <td>41</td>\n",
       "      <td>1</td>\n",
       "      <td>83807.86</td>\n",
       "      <td>1</td>\n",
       "      <td>0</td>\n",
       "      <td>1</td>\n",
       "      <td>112542.58</td>\n",
       "      <td>0</td>\n",
       "    </tr>\n",
       "    <tr>\n",
       "      <th>2</th>\n",
       "      <td>502</td>\n",
       "      <td>0</td>\n",
       "      <td>0</td>\n",
       "      <td>42</td>\n",
       "      <td>8</td>\n",
       "      <td>159660.80</td>\n",
       "      <td>3</td>\n",
       "      <td>1</td>\n",
       "      <td>0</td>\n",
       "      <td>113931.57</td>\n",
       "      <td>1</td>\n",
       "    </tr>\n",
       "    <tr>\n",
       "      <th>3</th>\n",
       "      <td>699</td>\n",
       "      <td>0</td>\n",
       "      <td>0</td>\n",
       "      <td>39</td>\n",
       "      <td>1</td>\n",
       "      <td>0.00</td>\n",
       "      <td>2</td>\n",
       "      <td>0</td>\n",
       "      <td>0</td>\n",
       "      <td>93826.63</td>\n",
       "      <td>0</td>\n",
       "    </tr>\n",
       "    <tr>\n",
       "      <th>4</th>\n",
       "      <td>850</td>\n",
       "      <td>2</td>\n",
       "      <td>0</td>\n",
       "      <td>43</td>\n",
       "      <td>2</td>\n",
       "      <td>125510.82</td>\n",
       "      <td>1</td>\n",
       "      <td>1</td>\n",
       "      <td>1</td>\n",
       "      <td>79084.10</td>\n",
       "      <td>0</td>\n",
       "    </tr>\n",
       "  </tbody>\n",
       "</table>\n",
       "</div>"
      ],
      "text/plain": [
       "   CreditScore  Geography  Gender  Age  Tenure    Balance  NumOfProducts  \\\n",
       "0          619          0       0   42       2       0.00              1   \n",
       "1          608          2       0   41       1   83807.86              1   \n",
       "2          502          0       0   42       8  159660.80              3   \n",
       "3          699          0       0   39       1       0.00              2   \n",
       "4          850          2       0   43       2  125510.82              1   \n",
       "\n",
       "   HasCrCard  IsActiveMember  EstimatedSalary  Exited  \n",
       "0          1               1        101348.88       1  \n",
       "1          0               1        112542.58       0  \n",
       "2          1               0        113931.57       1  \n",
       "3          0               0         93826.63       0  \n",
       "4          1               1         79084.10       0  "
      ]
     },
     "execution_count": 22,
     "metadata": {},
     "output_type": "execute_result"
    }
   ],
   "source": [
    "from sklearn.preprocessing import LabelEncoder\n",
    "\n",
    "le=LabelEncoder()\n",
    "bank['Gender']=le.fit_transform(bank['Gender'])\n",
    "bank['Geography']=le.fit_transform(bank['Geography'])\n",
    "\n",
    "bank.head()"
   ]
  },
  {
   "cell_type": "markdown",
   "id": "3e21ac6b",
   "metadata": {
    "papermill": {
     "duration": 0.014914,
     "end_time": "2023-11-18T07:13:37.049648",
     "exception": false,
     "start_time": "2023-11-18T07:13:37.034734",
     "status": "completed"
    },
    "tags": []
   },
   "source": [
    "The difference b/w Min and Max of both Balance and EstimatedSalary are bigger than expected thus we are doing scaling on it to make all the values in range of 0-1"
   ]
  },
  {
   "cell_type": "markdown",
   "id": "6d847380",
   "metadata": {
    "papermill": {
     "duration": 0.014428,
     "end_time": "2023-11-18T07:13:37.079064",
     "exception": false,
     "start_time": "2023-11-18T07:13:37.064636",
     "status": "completed"
    },
    "tags": []
   },
   "source": [
    "# **Feature Selection**"
   ]
  },
  {
   "cell_type": "code",
   "execution_count": 23,
   "id": "6908ec1f",
   "metadata": {
    "execution": {
     "iopub.execute_input": "2023-11-18T07:13:37.110211Z",
     "iopub.status.busy": "2023-11-18T07:13:37.109798Z",
     "iopub.status.idle": "2023-11-18T07:13:37.121034Z",
     "shell.execute_reply": "2023-11-18T07:13:37.120042Z"
    },
    "papermill": {
     "duration": 0.029259,
     "end_time": "2023-11-18T07:13:37.123104",
     "exception": false,
     "start_time": "2023-11-18T07:13:37.093845",
     "status": "completed"
    },
    "tags": []
   },
   "outputs": [
    {
     "data": {
      "text/plain": [
       "CreditScore         460\n",
       "Geography             3\n",
       "Gender                2\n",
       "Age                  70\n",
       "Tenure               11\n",
       "Balance            6382\n",
       "NumOfProducts         4\n",
       "HasCrCard             2\n",
       "IsActiveMember        2\n",
       "EstimatedSalary    9999\n",
       "Exited                2\n",
       "dtype: int64"
      ]
     },
     "execution_count": 23,
     "metadata": {},
     "output_type": "execute_result"
    }
   ],
   "source": [
    "bank.nunique()"
   ]
  },
  {
   "cell_type": "markdown",
   "id": "799d5639",
   "metadata": {
    "papermill": {
     "duration": 0.014736,
     "end_time": "2023-11-18T07:13:37.153045",
     "exception": false,
     "start_time": "2023-11-18T07:13:37.138309",
     "status": "completed"
    },
    "tags": []
   },
   "source": [
    "Extracting the features which have few unique values"
   ]
  },
  {
   "cell_type": "code",
   "execution_count": 24,
   "id": "0af11824",
   "metadata": {
    "execution": {
     "iopub.execute_input": "2023-11-18T07:13:37.184646Z",
     "iopub.status.busy": "2023-11-18T07:13:37.184275Z",
     "iopub.status.idle": "2023-11-18T07:13:38.191277Z",
     "shell.execute_reply": "2023-11-18T07:13:38.190291Z"
    },
    "papermill": {
     "duration": 1.026138,
     "end_time": "2023-11-18T07:13:38.194166",
     "exception": false,
     "start_time": "2023-11-18T07:13:37.168028",
     "status": "completed"
    },
    "tags": []
   },
   "outputs": [
    {
     "data": {
      "image/png": "[encoded data removed]",
      "text/plain": [
       "<Figure size 640x480 with 1 Axes>"
      ]
     },
     "metadata": {},
     "output_type": "display_data"
    }
   ],
   "source": [
    "from sklearn.feature_selection import mutual_info_classif\n",
    "x = bank.drop('Exited', axis=1)\n",
    "y = bank['Exited']\n",
    "\n",
    "mutual_info_scores = mutual_info_classif(x, y)\n",
    "\n",
    "feature_info = pd.DataFrame({'Feature': x.columns, 'Mutual_Info_Score': mutual_info_scores})\n",
    "sns.barplot(x='Mutual_Info_Score', y='Feature', data=feature_info, color='teal')\n",
    "plt.title('Mutual Information Scores for Features')\n",
    "plt.xlabel('Mutual Information Score')\n",
    "plt.ylabel('Feature')\n",
    "plt.show()"
   ]
  },
  {
   "cell_type": "code",
   "execution_count": 25,
   "id": "14295aee",
   "metadata": {
    "execution": {
     "iopub.execute_input": "2023-11-18T07:13:38.227801Z",
     "iopub.status.busy": "2023-11-18T07:13:38.226927Z",
     "iopub.status.idle": "2023-11-18T07:13:38.234760Z",
     "shell.execute_reply": "2023-11-18T07:13:38.233970Z"
    },
    "papermill": {
     "duration": 0.02682,
     "end_time": "2023-11-18T07:13:38.236861",
     "exception": false,
     "start_time": "2023-11-18T07:13:38.210041",
     "status": "completed"
    },
    "tags": []
   },
   "outputs": [
    {
     "name": "stdout",
     "output_type": "stream",
     "text": [
      "          Feature  Mutual_Info_Score\n",
      "6   NumOfProducts           0.076522\n",
      "3             Age           0.070726\n",
      "4          Tenure           0.011407\n",
      "1       Geography           0.011316\n",
      "8  IsActiveMember           0.009111\n",
      "5         Balance           0.008688\n"
     ]
    }
   ],
   "source": [
    "sorted_features = feature_info.sort_values(by='Mutual_Info_Score', ascending=False)\n",
    "top_features = sorted_features.head(6)\n",
    "print(top_features)"
   ]
  },
  {
   "cell_type": "code",
   "execution_count": null,
   "id": "d1494cdb",
   "metadata": {
    "papermill": {
     "duration": 0.015334,
     "end_time": "2023-11-18T07:13:38.267849",
     "exception": false,
     "start_time": "2023-11-18T07:13:38.252515",
     "status": "completed"
    },
    "tags": []
   },
   "outputs": [],
   "source": []
  }
 ],
 "metadata": {
  "kaggle": {
   "accelerator": "none",
   "dataSources": [
    {
     "datasetId": 2008274,
     "sourceId": 3322096,
     "sourceType": "datasetVersion"
    }
   ],
   "dockerImageVersionId": 30587,
   "isGpuEnabled": false,
   "isInternetEnabled": true,
   "language": "python",
   "sourceType": "notebook"
  },
  "kernelspec": {
   "display_name": "Python 3",
   "language": "python",
   "name": "python3"
  },
  "language_info": {
   "codemirror_mode": {
    "name": "ipython",
    "version": 3
   },
   "file_extension": ".py",
   "mimetype": "text/x-python",
   "name": "python",
   "nbconvert_exporter": "python",
   "pygments_lexer": "ipython3",
   "version": "3.10.12"
  },
  "papermill": {
   "default_parameters": {},
   "duration": 10.147826,
   "end_time": "2023-11-18T07:13:38.903532",
   "environment_variables": {},
   "exception": null,
   "input_path": "__notebook__.ipynb",
   "output_path": "__notebook__.ipynb",
   "parameters": {},
   "start_time": "2023-11-18T07:13:28.755706",
   "version": "2.4.0"
  }
 },
 "nbformat": 4,
 "nbformat_minor": 5
}
